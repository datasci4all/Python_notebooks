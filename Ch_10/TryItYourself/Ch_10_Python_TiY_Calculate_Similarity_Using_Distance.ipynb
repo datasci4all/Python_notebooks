{
  "cells": [
    {
      "cell_type": "code",
      "execution_count": null,
      "id": "5355a123",
      "metadata": {
        "id": "5355a123"
      },
      "outputs": [],
      "source": [
        "#### Calculate Similarity Using Distance ####\n",
        "\n",
        "# Importing necessary libraries\n",
        "import pandas as pd\n",
        "from plotnine import ggplot, aes, geom_point, xlab, ylab, ggtitle, geom_text\n",
        "from scipy.spatial import distance_matrix\n",
        "\n",
        "# Import data\n",
        "penguins = pd.read_csv('small_penguins.csv')\n",
        "\n",
        "# Plot data\n",
        "(ggplot(penguins, aes(x = \"bill_length_mm\", y = \"bill_depth_mm\", label='species')) +\n",
        "  geom_point(size = 4) +\n",
        "  xlab(\"Bill Length (mm)\") +\n",
        "  ylab(\"Bill Depth (mm)\") +\n",
        "  ggtitle(\"Bill Depth vs. Bill Length\") +\n",
        "  geom_text(nudge_y = 0.3)\n",
        ")"
      ]
    },
    {
      "cell_type": "code",
      "execution_count": null,
      "id": "UylKY4WymD4D",
      "metadata": {
        "id": "UylKY4WymD4D"
      },
      "outputs": [],
      "source": [
        "penguin_bills = penguins[['bill_length_mm' , 'bill_depth_mm']]\n",
        "\n",
        "# Compute distances\n",
        "dist_matrix = pd.DataFrame(distance_matrix(penguin_bills, penguin_bills))\n",
        "dist_matrix"
      ]
    },
    {
      "cell_type": "code",
      "execution_count": null,
      "id": "3EIzUMH5mOIP",
      "metadata": {
        "id": "3EIzUMH5mOIP"
      },
      "outputs": [],
      "source": [
        "# View original data set to see species\n",
        "penguins"
      ]
    },
    {
      "cell_type": "code",
      "source": [
        "# Compute Min and Max Distances for Question 2\n",
        "dist_mat = dist_matrix.to_numpy()\n",
        "\n",
        "# Cluster 1\n",
        "dist_mat1 = dist_mat[0:5, 0:5]\n",
        "max_dist1 = max(dist_mat1.flatten())\n",
        "print(\"Maximum distance between two points in Cluster 1: \", max_dist1, \"\\n\")\n",
        "\n",
        "dist_mat12 = dist_mat[0:5, 5:15]\n",
        "min_dist1 = min(dist_mat12.flatten())\n",
        "print(\"Distance from Cluster 1 to nearest other cluster using single linkage: \", min_dist1, \"\\n\")\n",
        "\n",
        "# Cluster 2\n",
        "my_list = [0, 1, 2, 3, 4, 5, 6, 7, 8, 9, 10, 11, 12, 13, 14]\n",
        "sliced_list = my_list[0:5] + my_list[10:15]\n",
        "\n",
        "dist_mat2 = dist_mat[5:10, 5:10]\n",
        "max_dist2 = max(dist_mat2.flatten())\n",
        "print(\"Maximum distance between two points in Cluster 2: \", max_dist2, \"\\n\")\n",
        "\n",
        "dist_mat22 = dist_mat[5:10, sliced_list]\n",
        "min_dist2 = min(dist_mat22.flatten())\n",
        "print(\"Distance from Cluster 2 to nearest other cluster using single linkage: \", min_dist2, \"\\n\")\n",
        "\n",
        "# Cluster 3\n",
        "dist_mat3 = dist_mat[10:15, 10:15]\n",
        "max_dist3 = max(dist_mat3.flatten())\n",
        "print(\"Maximum distance between two points in Cluster 3: \", max_dist3, \"\\n\")\n",
        "\n",
        "dist_mat32 = dist_mat[10:15, 0:10]\n",
        "min_dist3 = min(dist_mat32.flatten())\n",
        "print(\"Distance from Cluster 3 to nearest other cluster using single linkage: \", min_dist3, \"\\n\")\n"
      ],
      "metadata": {
        "id": "jgmmZ2I4b2PP"
      },
      "id": "jgmmZ2I4b2PP",
      "execution_count": null,
      "outputs": []
    }
  ],
  "metadata": {
    "colab": {
      "provenance": []
    },
    "kernelspec": {
      "display_name": "Python 3 (ipykernel)",
      "language": "python",
      "name": "python3"
    },
    "language_info": {
      "codemirror_mode": {
        "name": "ipython",
        "version": 3
      },
      "file_extension": ".py",
      "mimetype": "text/x-python",
      "name": "python",
      "nbconvert_exporter": "python",
      "pygments_lexer": "ipython3",
      "version": "3.11.4"
    }
  },
  "nbformat": 4,
  "nbformat_minor": 5
}