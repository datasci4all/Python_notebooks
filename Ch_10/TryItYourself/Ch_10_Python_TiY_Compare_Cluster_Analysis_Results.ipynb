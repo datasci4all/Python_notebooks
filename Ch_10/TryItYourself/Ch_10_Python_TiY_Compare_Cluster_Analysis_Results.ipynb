{
  "cells": [
    {
      "cell_type": "code",
      "execution_count": null,
      "id": "3587256c",
      "metadata": {
        "id": "3587256c"
      },
      "outputs": [],
      "source": [
        "#### Compare Cluster Analysis Results ####\n",
        "\n",
        "# Importing necessary libraries\n",
        "import pandas as pd\n",
        "from plotnine import ggplot, aes, geom_point, xlab, ylab, ggtitle, scale_x_continuous, scale_y_continuous, labs\n",
        "from sklearn.cluster import KMeans\n",
        "\n",
        "# Import data\n",
        "data = pd.read_csv('small_music.csv')\n",
        "\n",
        "# Plot data without clustering\n",
        "(ggplot(data, aes(x = 'danceability', y = 'energy')) +\n",
        "  geom_point(size = 3) +\n",
        "  ylab('Energy') +\n",
        "  xlab('Danceability') +\n",
        "  ggtitle('Energy vs. Danceability')\n",
        ")"
      ]
    },
    {
      "cell_type": "code",
      "execution_count": null,
      "id": "174718a0",
      "metadata": {
        "id": "174718a0"
      },
      "outputs": [],
      "source": [
        "## 2 cluster analysis\n",
        "data_variables = data[['danceability', 'energy']]\n",
        "k_means_clustering = KMeans(n_clusters = 2, random_state = 1, algorithm = 'lloyd').fit(data_variables)\n",
        "\n",
        "data['clusters2'] = [str(x) for x in k_means_clustering.labels_]\n",
        "\n",
        "# Plot results from 2 cluster analysis\n",
        "(ggplot(data, aes(x = 'danceability', y = 'energy')) +\n",
        "  geom_point(aes(fill = 'clusters2'), color = 'black', size = 3) +\n",
        "  ylab('Energy') +\n",
        "  xlab('Danceability') +\n",
        "  labs(fill = 'Cluster') +\n",
        "  ggtitle('Energy vs. Danceability')\n",
        ")"
      ]
    },
    {
      "cell_type": "code",
      "execution_count": null,
      "id": "85578750",
      "metadata": {
        "id": "85578750"
      },
      "outputs": [],
      "source": [
        "## 4 cluster analysis\n",
        "k_means_clustering = KMeans(n_clusters = 4, random_state = 1, algorithm = 'lloyd').fit(data_variables)\n",
        "\n",
        "data['clusters4'] = [str(x) for x in k_means_clustering.labels_]\n",
        "\n",
        "# Plot 4 cluster analysis\n",
        "(ggplot(data, aes(x = 'danceability', y = 'energy')) +\n",
        "  geom_point(aes(fill = 'clusters4'), color = 'black', size = 3) +\n",
        "  ylab('Energy') +\n",
        "  xlab('Danceability') +\n",
        "  labs(fill = 'Cluster') +\n",
        "  ggtitle('Energy vs. Danceability')\n",
        ")"
      ]
    },
    {
      "cell_type": "code",
      "execution_count": null,
      "id": "4f618810",
      "metadata": {
        "id": "4f618810"
      },
      "outputs": [],
      "source": [
        "## 6 cluster analysis\n",
        "k_means_clustering = KMeans(n_clusters = 6, random_state = 1, algorithm = 'lloyd').fit(data_variables)\n",
        "\n",
        "data['clusters6'] = [str(x) for x in k_means_clustering.labels_]\n",
        "\n",
        "# Plot 6 cluster analysis\n",
        "(ggplot(data, aes(x = 'danceability', y = 'energy')) +\n",
        "  geom_point(aes(fill = 'clusters6'), color = 'black', size = 3) +\n",
        "  ylab('Energy') +\n",
        "  xlab('Danceability') +\n",
        "  labs(fill = 'Cluster') +\n",
        "  ggtitle('Energy vs. Danceability')\n",
        ")"
      ]
    }
  ],
  "metadata": {
    "colab": {
      "provenance": []
    },
    "kernelspec": {
      "display_name": "Python 3 (ipykernel)",
      "language": "python",
      "name": "python3"
    },
    "language_info": {
      "codemirror_mode": {
        "name": "ipython",
        "version": 3
      },
      "file_extension": ".py",
      "mimetype": "text/x-python",
      "name": "python",
      "nbconvert_exporter": "python",
      "pygments_lexer": "ipython3",
      "version": "3.11.4"
    }
  },
  "nbformat": 4,
  "nbformat_minor": 5
}