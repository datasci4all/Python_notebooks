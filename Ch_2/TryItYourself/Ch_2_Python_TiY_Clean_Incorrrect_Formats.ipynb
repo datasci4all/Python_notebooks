{
  "cells": [
    {
      "cell_type": "code",
      "execution_count": null,
      "id": "b6f9f6bf",
      "metadata": {
        "id": "b6f9f6bf"
      },
      "outputs": [],
      "source": [
        "#### Clean Incorrect Formats ####\n",
        "\n",
        "# Importing necessary libraries\n",
        "import pandas as pd\n",
        "\n",
        "# Load the dataset\n",
        "data = pd.read_csv('vote.csv')\n",
        "\n",
        "# Count the initial number of 'dog' and 'cat' responses before cleaning\n",
        "initial_dog_count = data['favorite_pet'].eq('dog').sum()\n",
        "initial_cat_count = data['favorite_pet'].eq('cat').sum()\n",
        "\n",
        "# Clean the data\n",
        "data['favorite_pet'] = data['favorite_pet'].replace(\n",
        "    {\n",
        "        r'dogs': 'dog',  # Replace 'dogs' with 'dog'\n",
        "        r'cats': 'cat',  # Replace 'cats' with 'cat'\n",
        "        r'd.*g': 'dog',  # Replace words starting with d and ending with g with 'dog'\n",
        "        r'c.*t': 'cat'   # Replace words starting with c and ending with t with 'cat'\n",
        "    }, regex=True)\n",
        "\n",
        "# Count the number of 'dog' and 'cat' responses after cleaning\n",
        "final_dog_count = data['favorite_pet'].eq('dog').sum()\n",
        "final_cat_count = data['favorite_pet'].eq('cat').sum()\n",
        "\n",
        "print(f\"Initial dog count: {initial_dog_count}\")\n",
        "print(f\"Initial cat count: {initial_cat_count}\")\n",
        "print(f\"Final dog count: {final_dog_count}\")\n",
        "print(f\"Final cat count: {final_cat_count}\")"
      ]
    }
  ],
  "metadata": {
    "colab": {
      "provenance": []
    },
    "kernelspec": {
      "display_name": "Python 3 (ipykernel)",
      "language": "python",
      "name": "python3"
    },
    "language_info": {
      "codemirror_mode": {
        "name": "ipython",
        "version": 3
      },
      "file_extension": ".py",
      "mimetype": "text/x-python",
      "name": "python",
      "nbconvert_exporter": "python",
      "pygments_lexer": "ipython3",
      "version": "3.11.4"
    }
  },
  "nbformat": 4,
  "nbformat_minor": 5
}