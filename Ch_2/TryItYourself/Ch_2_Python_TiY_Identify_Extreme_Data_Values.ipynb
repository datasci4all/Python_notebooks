{
  "cells": [
    {
      "cell_type": "code",
      "execution_count": null,
      "metadata": {
        "id": "_kd8hGFUi0UV"
      },
      "outputs": [],
      "source": [
        "#### Identify Extreme Data Values\n",
        "\n",
        "# Importing necessary libraries\n",
        "import pandas as pd\n",
        "\n",
        "# Load the data\n",
        "data = pd.read_csv('vote.csv')\n",
        "\n",
        "# Calculate the 5th and 95th percentiles of age\n",
        "age_5th_percentile = data['age'].quantile(0.05)\n",
        "age_95th_percentile = data['age'].quantile(0.95)\n",
        "\n",
        "# Get the range of the oldest 5% and youngest 5% of respondents\n",
        "oldest_5_percent_range = data[data['age'] >= age_95th_percentile]['age'].agg(['min', 'max'])\n",
        "youngest_5_percent_range = data[data['age'] <= age_5th_percentile]['age'].agg(['min', 'max'])\n",
        "\n",
        "# Count the number of respondents above 100 and below 18\n",
        "above_100_count = data[data['age'] > 100].shape[0]\n",
        "below_18_count = data[data['age'] < 18].shape[0]\n",
        "\n",
        "print('Highest age of the lowest 5%:', age_5th_percentile)\n",
        "print('Lowest age of the highest 5%:', age_95th_percentile)\n",
        "print('Oldest 5% age range:', oldest_5_percent_range)\n",
        "print('Youngest 5% age range:', youngest_5_percent_range)\n",
        "print('Number of respondents above 100:', above_100_count)\n",
        "print('Number of respondents below 18:', below_18_count)"
      ]
    }
  ],
  "metadata": {
    "colab": {
      "provenance": []
    },
    "kernelspec": {
      "display_name": "Python 3 (ipykernel)",
      "language": "python",
      "name": "python3"
    },
    "language_info": {
      "codemirror_mode": {
        "name": "ipython",
        "version": 3
      },
      "file_extension": ".py",
      "mimetype": "text/x-python",
      "name": "python",
      "nbconvert_exporter": "python",
      "pygments_lexer": "ipython3",
      "version": "3.11.4"
    }
  },
  "nbformat": 4,
  "nbformat_minor": 0
}