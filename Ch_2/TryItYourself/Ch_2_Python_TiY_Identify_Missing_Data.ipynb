{
  "cells": [
    {
      "cell_type": "code",
      "execution_count": null,
      "metadata": {
        "id": "6MhnsRf3d4UP"
      },
      "outputs": [],
      "source": [
        "#### Identify Missing Data ####\n",
        "\n",
        "# Importing necessary libraries\n",
        "import pandas as pd\n",
        "\n",
        "# Load the dataset\n",
        "data = pd.read_csv('vote.csv')\n",
        "\n",
        "# Count the number of missing values in GPA\n",
        "missing_gpa = data['gpa'].isnull().sum()\n",
        "\n",
        "# Count the total number of rows in the dataset\n",
        "total_rows = data.shape[0]\n",
        "\n",
        "# Calculate the percentage of missing GPA values\n",
        "percentage_missing_gpa = (missing_gpa / total_rows) * 100\n",
        "\n",
        "# Display the results\n",
        "print(f'Number of missing GPA values: {missing_gpa}')\n",
        "print(f'Total number of rows: {total_rows}')\n",
        "print(f'Percentage of missing GPA values: {percentage_missing_gpa:f}%')"
      ]
    }
  ],
  "metadata": {
    "colab": {
      "provenance": []
    },
    "kernelspec": {
      "display_name": "Python 3 (ipykernel)",
      "language": "python",
      "name": "python3"
    },
    "language_info": {
      "codemirror_mode": {
        "name": "ipython",
        "version": 3
      },
      "file_extension": ".py",
      "mimetype": "text/x-python",
      "name": "python",
      "nbconvert_exporter": "python",
      "pygments_lexer": "ipython3",
      "version": "3.11.4"
    }
  },
  "nbformat": 4,
  "nbformat_minor": 0
}