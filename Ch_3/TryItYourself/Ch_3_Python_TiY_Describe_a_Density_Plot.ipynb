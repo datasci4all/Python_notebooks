{
  "cells": [
    {
      "cell_type": "code",
      "execution_count": null,
      "id": "d257eeda",
      "metadata": {
        "id": "d257eeda"
      },
      "outputs": [],
      "source": [
        "#### Describe a Density Plot ####\n",
        "\n",
        "# Importing necessary libraries\n",
        "import pandas as pd\n",
        "from plotnine import ggplot, aes, geom_density, xlab, ggtitle, ylab\n",
        "\n",
        "# Import data\n",
        "countries = pd.read_csv('countries.csv')\n",
        "\n",
        "# Plot data\n",
        "(ggplot(countries, aes(x = 'mean_years_of_schooling')) +\n",
        "  geom_density() +\n",
        "  xlab('Mean Years of Schooling') +\n",
        "  ylab('Density') +\n",
        "  ggtitle('Mean Years of Schooling Worldwide')\n",
        ")"
      ]
    }
  ],
  "metadata": {
    "colab": {
      "provenance": []
    },
    "kernelspec": {
      "display_name": "Python 3 (ipykernel)",
      "language": "python",
      "name": "python3"
    },
    "language_info": {
      "codemirror_mode": {
        "name": "ipython",
        "version": 3
      },
      "file_extension": ".py",
      "mimetype": "text/x-python",
      "name": "python",
      "nbconvert_exporter": "python",
      "pygments_lexer": "ipython3",
      "version": "3.11.4"
    }
  },
  "nbformat": 4,
  "nbformat_minor": 5
}