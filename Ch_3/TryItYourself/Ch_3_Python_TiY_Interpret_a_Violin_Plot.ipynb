{
  "cells": [
    {
      "cell_type": "code",
      "execution_count": null,
      "id": "70994649",
      "metadata": {
        "id": "70994649"
      },
      "outputs": [],
      "source": [
        "#### Interpret a Violin Plot ####\n",
        "\n",
        "# Importing necessary libraries\n",
        "import pandas as pd\n",
        "from plotnine import ggplot, aes, geom_density, xlab, ylab, ggtitle, geom_violin, geom_boxplot, scale_x_continuous, theme\n",
        "\n",
        "def no_labels(values):\n",
        "    return [''] * len(values)\n",
        "\n",
        "# Import data\n",
        "countries = pd.read_csv('countries.csv')\n",
        "\n",
        "# Plot the data\n",
        "(ggplot(countries, aes(x = 1, y = 'under_5_mortality_rate')) +\n",
        "  geom_violin(color = 'black', fill = 'salmon') +\n",
        "  geom_boxplot(width = 0.1) +\n",
        "  xlab('') +\n",
        "  ylab('Under-5 Mortality Rate (Deaths per 1000 Births)') +\n",
        "  scale_x_continuous(labels=no_labels) +\n",
        "  ggtitle('Worldwide Distribution of Mortality Rate for Children Under 5') +\n",
        "  theme(figure_size=(8, 6))\n",
        ")"
      ]
    }
  ],
  "metadata": {
    "colab": {
      "provenance": []
    },
    "kernelspec": {
      "display_name": "Python 3 (ipykernel)",
      "language": "python",
      "name": "python3"
    },
    "language_info": {
      "codemirror_mode": {
        "name": "ipython",
        "version": 3
      },
      "file_extension": ".py",
      "mimetype": "text/x-python",
      "name": "python",
      "nbconvert_exporter": "python",
      "pygments_lexer": "ipython3",
      "version": "3.11.4"
    }
  },
  "nbformat": 4,
  "nbformat_minor": 5
}