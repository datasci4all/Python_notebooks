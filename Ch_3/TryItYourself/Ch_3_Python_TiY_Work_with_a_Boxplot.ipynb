{
  "cells": [
    {
      "cell_type": "code",
      "execution_count": null,
      "id": "b543fa7b",
      "metadata": {
        "id": "b543fa7b"
      },
      "outputs": [],
      "source": [
        "#### Work with a Boxplot ####\n",
        "\n",
        "# Importing necessary libraries\n",
        "import pandas as pd\n",
        "from plotnine import ggplot, aes, geom_boxplot, ylab, ggtitle, xlab, scale_x_continuous\n",
        "\n",
        "def no_labels(values):\n",
        "    return [''] * len(values)\n",
        "\n",
        "# Import data\n",
        "countries = pd.read_csv('countries.csv')\n",
        "\n",
        "# Plot the data\n",
        "(ggplot(countries, aes(x = 1, y = 'whr_score')) +\n",
        "  geom_boxplot(fill = 'purple', color = 'black') +\n",
        "  ylab('WHR Score') +\n",
        "  xlab('') +\n",
        "  scale_x_continuous(labels=no_labels) +\n",
        "  ggtitle('Distribution of World Happiness Report (WHR) Scores Worldwide')\n",
        ")"
      ]
    }
  ],
  "metadata": {
    "colab": {
      "provenance": []
    },
    "kernelspec": {
      "display_name": "Python 3 (ipykernel)",
      "language": "python",
      "name": "python3"
    },
    "language_info": {
      "codemirror_mode": {
        "name": "ipython",
        "version": 3
      },
      "file_extension": ".py",
      "mimetype": "text/x-python",
      "name": "python",
      "nbconvert_exporter": "python",
      "pygments_lexer": "ipython3",
      "version": "3.11.4"
    }
  },
  "nbformat": 4,
  "nbformat_minor": 5
}