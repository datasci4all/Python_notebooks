{
  "cells": [
    {
      "cell_type": "code",
      "execution_count": null,
      "id": "736d62ad",
      "metadata": {
        "id": "736d62ad"
      },
      "outputs": [],
      "source": [
        "#### Calculate Mean, Mode, Median, and 90% Trimmed Mean ####\n",
        "\n",
        "# Importing necessary libraries\n",
        "import pandas\n",
        "from scipy.stats import trim_mean\n",
        "\n",
        "# Reading the data into a DataFrame\n",
        "videogames = pandas.read_csv('videogames.csv')\n",
        "\n",
        "# Calculating mean, median, mode, and trimmed mean for 'User_Score'\n",
        "mean_rating = videogames['user_rating'].mean()\n",
        "median_rating = videogames['user_rating'].median()\n",
        "mode_rating = videogames['user_rating'].mode()[0]\n",
        "mean_90_rating = trim_mean(videogames['user_rating'], proportiontocut=0.05)\n",
        "\n",
        "# Creating a DataFrame to display the calculated statistics\n",
        "summary = pandas.DataFrame([{\n",
        "    'Mean Rating': mean_rating,\n",
        "    '90% Trimmed Mean Rating': mean_90_rating,\n",
        "    'Median Rating': median_rating,\n",
        "    'Mode Rating': mode_rating\n",
        "}])\n",
        "\n",
        "# Displaying the summary DataFrame\n",
        "print(summary)\n"
      ]
    }
  ],
  "metadata": {
    "colab": {
      "provenance": []
    },
    "kernelspec": {
      "display_name": "Python 3 (ipykernel)",
      "language": "python",
      "name": "python3"
    },
    "language_info": {
      "codemirror_mode": {
        "name": "ipython",
        "version": 3
      },
      "file_extension": ".py",
      "mimetype": "text/x-python",
      "name": "python",
      "nbconvert_exporter": "python",
      "pygments_lexer": "ipython3",
      "version": "3.11.4"
    }
  },
  "nbformat": 4,
  "nbformat_minor": 5
}