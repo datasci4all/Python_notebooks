{
  "cells": [
    {
      "cell_type": "code",
      "execution_count": null,
      "id": "06d44f69",
      "metadata": {
        "id": "06d44f69"
      },
      "outputs": [],
      "source": [
        "#### Calculate the Range, Variance, and Standard Deviation ####\n",
        "\n",
        "# Importing necessary libraries\n",
        "import pandas as pd\n",
        "\n",
        "# Load the dataset\n",
        "videogames_df = pd.read_csv('videogames.csv')\n",
        "\n",
        "# Calculating range, variance, and standard deviation for 'User_Rating'\n",
        "range_user_rating = videogames_df['user_rating'].max() - videogames_df['user_rating'].min()\n",
        "variance_user_rating = videogames_df['user_rating'].var()\n",
        "std_dev_user_rating = videogames_df['user_rating'].std()\n",
        "\n",
        "# Output the calculated values\n",
        "print('Range of User Rating:', range_user_rating)\n",
        "print('Variance of User Rating:', variance_user_rating)\n",
        "print('Standard Deviation of User Rating:', std_dev_user_rating)\n"
      ]
    }
  ],
  "metadata": {
    "colab": {
      "provenance": []
    },
    "kernelspec": {
      "display_name": "Python 3 (ipykernel)",
      "language": "python",
      "name": "python3"
    },
    "language_info": {
      "codemirror_mode": {
        "name": "ipython",
        "version": 3
      },
      "file_extension": ".py",
      "mimetype": "text/x-python",
      "name": "python",
      "nbconvert_exporter": "python",
      "pygments_lexer": "ipython3",
      "version": "3.11.4"
    }
  },
  "nbformat": 4,
  "nbformat_minor": 5
}