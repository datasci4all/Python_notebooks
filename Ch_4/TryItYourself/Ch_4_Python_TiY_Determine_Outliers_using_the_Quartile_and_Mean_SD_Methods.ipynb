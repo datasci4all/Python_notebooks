{
  "cells": [
    {
      "cell_type": "code",
      "execution_count": null,
      "id": "1a665c2f",
      "metadata": {
        "id": "1a665c2f"
      },
      "outputs": [],
      "source": [
        "#### Determine Outliers using the Quartile and Mean/SD Methods ####\n",
        "\n",
        "# Importing necessary libraries\n",
        "import pandas as pd\n",
        "\n",
        "# Load the dataset\n",
        "videogames_df = pd.read_csv('videogames.csv')\n",
        "\n",
        "# Calculating the mean, standard deviation, quartiles and IQR for 'global_sales'\n",
        "mean_global_sales = videogames_df['global_sales'].mean()\n",
        "std_global_sales = videogames_df['global_sales'].std()\n",
        "q1 = videogames_df['global_sales'].quantile(0.25)\n",
        "q3 = videogames_df['global_sales'].quantile(0.75)\n",
        "iqr = q3 - q1\n",
        "\n",
        "# Quartile Method Thresholds\n",
        "mild_outliers_q_low = q1 - 1.5 * iqr\n",
        "mild_outliers_q_high = q3 + 1.5 * iqr\n",
        "regular_outliers_q_low = q1 - 3 * iqr\n",
        "regular_outliers_q_high = q3 + 3 * iqr\n",
        "\n",
        "# Mean/SD Method Thresholds\n",
        "mild_outliers_sd_low = mean_global_sales - 2 * std_global_sales\n",
        "mild_outliers_sd_high = mean_global_sales + 2 * std_global_sales\n",
        "regular_outliers_sd_low = mean_global_sales - 3 * std_global_sales\n",
        "regular_outliers_sd_high = mean_global_sales + 3 * std_global_sales\n",
        "\n",
        "# Creating a table to display the results\n",
        "outlier_thresholds = pd.DataFrame({\n",
        "    'Type': ['Mild Outliers', 'Regular Outliers', 'Mild Outliers', 'Regular Outliers'],\n",
        "    'Method': ['Quartile Method', 'Quartile Method', 'Mean/SD Method', 'Mean/SD Method'],\n",
        "    'Lower Threshold': [mild_outliers_q_low, regular_outliers_q_low, mild_outliers_sd_low, regular_outliers_sd_low],\n",
        "    'Upper Threshold': [mild_outliers_q_high, regular_outliers_q_high, mild_outliers_sd_high, regular_outliers_sd_high]\n",
        "})\n",
        "\n",
        "print(outlier_thresholds)\n",
        "\n",
        "outlier_count = {\n",
        "    'Mild Outliers (Quartile Method)': (videogames_df['global_sales'] > mild_outliers_q_high).sum(),\n",
        "    'Regular Outliers (Quartile Method)': (videogames_df['global_sales'] > regular_outliers_q_high).sum(),\n",
        "    'Mild Outliers (Mean/SD Method)': (videogames_df['global_sales'] > mild_outliers_sd_high).sum(),\n",
        "    'Regular Outliers (Mean/SD Method)': (videogames_df['global_sales'] > regular_outliers_sd_high).sum()\n",
        "}\n",
        "\n",
        "# Print the count of outliers\n",
        "print(outlier_count)\n",
        "\n"
      ]
    }
  ],
  "metadata": {
    "colab": {
      "provenance": []
    },
    "kernelspec": {
      "display_name": "Python 3 (ipykernel)",
      "language": "python",
      "name": "python3"
    },
    "language_info": {
      "codemirror_mode": {
        "name": "ipython",
        "version": 3
      },
      "file_extension": ".py",
      "mimetype": "text/x-python",
      "name": "python",
      "nbconvert_exporter": "python",
      "pygments_lexer": "ipython3",
      "version": "3.11.4"
    }
  },
  "nbformat": 4,
  "nbformat_minor": 5
}