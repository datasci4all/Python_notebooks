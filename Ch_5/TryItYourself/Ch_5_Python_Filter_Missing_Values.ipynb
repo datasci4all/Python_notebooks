{
  "cells": [
    {
      "cell_type": "code",
      "execution_count": null,
      "metadata": {
        "id": "HJnbyEtSTUmm"
      },
      "outputs": [],
      "source": [
        "#### Filter Missing Values ####\n",
        "\n",
        "# Importing necessary libraries\n",
        "import pandas as pd\n",
        "\n",
        "# Load the CSV file into a DataFrame\n",
        "CustomersDf = pd.read_csv('Customers.csv')\n",
        "\n",
        "# Filter the DataFrame for rows where 'PostalCode' is missing (NaN or None)\n",
        "FilteredCustomersMissingPostalcode = CustomersDf[CustomersDf['PostalCode'].isnull()]\n",
        "\n",
        "# Calculate the number of observations\n",
        "NumObservations = len(FilteredCustomersMissingPostalcode)\n",
        "\n",
        "# Print the number of observations\n",
        "print(f'Number of observations where PostalCode is null: {NumObservations}')\n",
        "\n",
        "# Display the resulting DataFrame with all columns\n",
        "display(FilteredCustomersMissingPostalcode.style.hide(axis = 'index'))\n"
      ]
    }
  ],
  "metadata": {
    "colab": {
      "provenance": []
    },
    "kernelspec": {
      "display_name": "Python 3 (ipykernel)",
      "language": "python",
      "name": "python3"
    },
    "language_info": {
      "codemirror_mode": {
        "name": "ipython",
        "version": 3
      },
      "file_extension": ".py",
      "mimetype": "text/x-python",
      "name": "python",
      "nbconvert_exporter": "python",
      "pygments_lexer": "ipython3",
      "version": "3.10.9"
    }
  },
  "nbformat": 4,
  "nbformat_minor": 0
}