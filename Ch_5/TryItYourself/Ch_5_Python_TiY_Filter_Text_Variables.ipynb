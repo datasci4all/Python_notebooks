{
  "cells": [
    {
      "cell_type": "code",
      "execution_count": null,
      "metadata": {
        "id": "HJnbyEtSTUmm"
      },
      "outputs": [],
      "source": [
        "#### Filter Text Variables ####\n",
        "\n",
        "# Importing necessary libraries\n",
        "import pandas as pd\n",
        "\n",
        "# Load the CSV file into a DataFrame\n",
        "CustomersDf = pd.read_csv('Customers.csv')\n",
        "\n",
        "# Filter the DataFrame for rows where 'Country' is equal to 'Mexico'\n",
        "MexicoCustomersDf = CustomersDf[CustomersDf['Country'] == 'Mexico']\n",
        "\n",
        "# Calculate the number of observations\n",
        "NumObservations = len(MexicoCustomersDf)\n",
        "\n",
        "# Print the number of observations\n",
        "print(f'Number of observations in Mexico: {NumObservations}')\n",
        "\n",
        "# Display the resulting DataFrame with all columns\n",
        "display(MexicoCustomersDf.style.hide(axis = 'index'))\n",
        "\n",
        "\n",
        "# Filter the DataFrame for rows where 'Country' is equal to 'USA'\n",
        "UsaCustomersDf = CustomersDf[CustomersDf['Country'] == 'USA']\n",
        "\n",
        "# Calculate the number of observations\n",
        "NumObservations = len(UsaCustomersDf)\n",
        "\n",
        "# Print the number of observations\n",
        "print(f'Number of observations in the USA: {NumObservations}')\n",
        "\n",
        "# Display the resulting DataFrame with all columns\n",
        "display(UsaCustomersDf.style.hide(axis = 'index'))\n"
      ]
    }
  ],
  "metadata": {
    "colab": {
      "provenance": []
    },
    "kernelspec": {
      "display_name": "Python 3 (ipykernel)",
      "language": "python",
      "name": "python3"
    },
    "language_info": {
      "codemirror_mode": {
        "name": "ipython",
        "version": 3
      },
      "file_extension": ".py",
      "mimetype": "text/x-python",
      "name": "python",
      "nbconvert_exporter": "python",
      "pygments_lexer": "ipython3",
      "version": "3.10.9"
    }
  },
  "nbformat": 4,
  "nbformat_minor": 0
}