{
  "cells": [
    {
      "cell_type": "code",
      "execution_count": null,
      "metadata": {
        "id": "HJnbyEtSTUmm"
      },
      "outputs": [],
      "source": [
        "#### Filter a Quantitative Variable ####\n",
        "\n",
        "# Importing necessary libraries\n",
        "import pandas as pd\n",
        "\n",
        "# Load the CSV file into a DataFrame\n",
        "ProductsDf = pd.read_csv('Products.csv')\n",
        "\n",
        "# Filter the DataFrame for rows where 'Price' is greater than or equal to 45\n",
        "FilteredProducts45Df = ProductsDf[ProductsDf['Price'] >= 45]\n",
        "\n",
        "# Calculate the number of observations\n",
        "NumObservations = len(FilteredProducts45Df)\n",
        "\n",
        "# Print the number of observations\n",
        "print(f'Number of observations where the Price >= $45: {NumObservations}')\n",
        "\n",
        "# Display the resulting DataFrame with all columns\n",
        "display(FilteredProducts45Df.style.hide(axis = 'index'))\n",
        "\n",
        "# Add a few blank lines\n",
        "print('\\n\\n')\n",
        "\n",
        "\n",
        "\n",
        "# Filter the DataFrame for rows where 'Price' is less than 10\n",
        "FilteredProducts10Df = ProductsDf[ProductsDf['Price'] < 10]\n",
        "\n",
        "# Calculate the number of observations\n",
        "NumObservations = len(FilteredProducts10Df)\n",
        "\n",
        "# Print the number of observations\n",
        "print(f'Number of observations where the Price < $10: {NumObservations}')\n",
        "\n",
        "# Display the resulting DataFrame with all columns\n",
        "display(FilteredProducts10Df.style.hide(axis = 'index'))\n",
        "\n"
      ]
    }
  ],
  "metadata": {
    "colab": {
      "provenance": []
    },
    "kernelspec": {
      "display_name": "Python 3 (ipykernel)",
      "language": "python",
      "name": "python3"
    },
    "language_info": {
      "codemirror_mode": {
        "name": "ipython",
        "version": 3
      },
      "file_extension": ".py",
      "mimetype": "text/x-python",
      "name": "python",
      "nbconvert_exporter": "python",
      "pygments_lexer": "ipython3",
      "version": "3.10.9"
    }
  },
  "nbformat": 4,
  "nbformat_minor": 0
}