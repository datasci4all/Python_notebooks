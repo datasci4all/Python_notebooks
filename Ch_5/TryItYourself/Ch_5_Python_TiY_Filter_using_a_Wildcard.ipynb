{
  "cells": [
    {
      "cell_type": "code",
      "execution_count": null,
      "metadata": {
        "id": "HJnbyEtSTUmm"
      },
      "outputs": [],
      "source": [
        "#### Filter Using a Wildcard ####\n",
        "\n",
        "# Importing necessary libraries\n",
        "import pandas as pd\n",
        "\n",
        "# Load the CSV file into a DataFrame\n",
        "CustomersDf = pd.read_csv('Customers.csv')\n",
        "\n",
        "# Filter the DataFrame for rows where 'ContactName' starts with 'Z'\n",
        "FilteredCustomersDfZ = CustomersDf[CustomersDf['ContactName'].str.startswith('Z')]\n",
        "\n",
        "# Calculate the number of observations\n",
        "NumObservations = len(FilteredCustomersDfZ)\n",
        "\n",
        "# Print the number of observations\n",
        "print(f'Number of observations where ContactName starts with a Z: {NumObservations}')\n",
        "\n",
        "# Display the resulting DataFrame with all columns\n",
        "display(FilteredCustomersDfZ.style.hide(axis = 'index'))\n",
        "\n",
        "# Add a few blank lines\n",
        "print('\\n\\n')\n",
        "\n",
        "# Filter the DataFrame for rows where 'CustomerName' starts with 'B'\n",
        "FilteredCustomersDfStartB = CustomersDf[CustomersDf['CustomerName'].str.startswith('B')]\n",
        "\n",
        "# Calculate the number of observations\n",
        "NumObservations = len(FilteredCustomersDfStartB)\n",
        "\n",
        "# Print the number of observations\n",
        "print(f'Number of observations where CustomerName starts with a B: {NumObservations}')\n",
        "\n",
        "# Display the resulting DataFrame with all columns\n",
        "display(FilteredCustomersDfStartB.style.hide(axis = 'index'))\n",
        "\n",
        "\n",
        "# Add a few blank lines\n",
        "print('\\n\\n')\n",
        "\n",
        "# Filter the DataFrame for rows where 'CustomerName' ends with 'B'\n",
        "FilteredCustomersDfEndB = CustomersDf[CustomersDf['CustomerName'].str.endswith('B')]\n",
        "\n",
        "# Calculate the number of observations\n",
        "NumObservations = len(FilteredCustomersDfEndB)\n",
        "\n",
        "# Print the number of observations\n",
        "print(f'Number of observations where CustomerName ends with a B: {NumObservations}')\n",
        "\n",
        "# Display the resulting DataFrame with all columns\n",
        "display(FilteredCustomersDfEndB.style.hide(axis = 'index'))"
      ]
    }
  ],
  "metadata": {
    "colab": {
      "provenance": []
    },
    "kernelspec": {
      "display_name": "Python 3 (ipykernel)",
      "language": "python",
      "name": "python3"
    },
    "language_info": {
      "codemirror_mode": {
        "name": "ipython",
        "version": 3
      },
      "file_extension": ".py",
      "mimetype": "text/x-python",
      "name": "python",
      "nbconvert_exporter": "python",
      "pygments_lexer": "ipython3",
      "version": "3.10.9"
    }
  },
  "nbformat": 4,
  "nbformat_minor": 0
}