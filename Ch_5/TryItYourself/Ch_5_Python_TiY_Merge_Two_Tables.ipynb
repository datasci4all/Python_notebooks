{
  "cells": [
    {
      "cell_type": "code",
      "execution_count": null,
      "metadata": {
        "id": "HJnbyEtSTUmm"
      },
      "outputs": [],
      "source": [
        "#### Merge Two Tables ####\n",
        "\n",
        "# Importing necessary libraries\n",
        "import pandas as pd\n",
        "\n",
        "# Load the CSV files into DataFrames (replace with your file paths)\n",
        "CustomersDf = pd.read_csv('Customers.csv')\n",
        "OrdersDf = pd.read_csv('Orders.csv')\n",
        "\n",
        "# Perform an inner join between 'Customers' and 'Orders' on 'CustomerID'\n",
        "ResultDf = pd.merge(CustomersDf[['CustomerID', 'CustomerName']], OrdersDf[['CustomerID', 'OrderDate']], on='CustomerID', how='inner')\n",
        "\n",
        "# Set the option to display all rows\n",
        "pd.set_option('display.max_rows', 1000)\n",
        "\n",
        "# Calculate the number of observations\n",
        "NumObservations = len(ResultDf)\n",
        "\n",
        "# Print the number of observations\n",
        "print(f'Number of observations: {NumObservations}')\n",
        "\n",
        "# Display the resulting DataFrame with only 'CustomerName' and 'OrderDate' columns\n",
        "display(ResultDf[['CustomerID', 'CustomerName', 'OrderDate']].style.hide(axis='index'))\n"
      ]
    }
  ],
  "metadata": {
    "colab": {
      "provenance": []
    },
    "kernelspec": {
      "display_name": "Python 3 (ipykernel)",
      "language": "python",
      "name": "python3"
    },
    "language_info": {
      "codemirror_mode": {
        "name": "ipython",
        "version": 3
      },
      "file_extension": ".py",
      "mimetype": "text/x-python",
      "name": "python",
      "nbconvert_exporter": "python",
      "pygments_lexer": "ipython3",
      "version": "3.10.9"
    }
  },
  "nbformat": 4,
  "nbformat_minor": 0
}