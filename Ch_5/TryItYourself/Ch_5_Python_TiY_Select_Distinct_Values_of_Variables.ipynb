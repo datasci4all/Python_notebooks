{
  "cells": [
    {
      "cell_type": "code",
      "execution_count": null,
      "metadata": {
        "id": "HJnbyEtSTUmm"
      },
      "outputs": [],
      "source": [
        "#### Select Distinct Values of Variables\n",
        "\n",
        "# Importing necessary libraries\n",
        "import pandas as pd\n",
        "\n",
        "# Load the CSV file into a DataFrame\n",
        "CustomersDf = pd.read_csv('Customers.csv')\n",
        "\n",
        "# Get unique/distinct values from the 'Country' column\n",
        "UniqueCountries = CustomersDf['Country'].unique()\n",
        "\n",
        "# Set the option to display all rows (change 1000 to your desired number)\n",
        "pd.set_option('display.max_rows', 1000)\n",
        "\n",
        "# Calculate the number of unique observations\n",
        "NumUniqueCountries = len(UniqueCountries)\n",
        "\n",
        "# Print the number of unique observations\n",
        "print(f'Number of unique observations: {NumUniqueCountries}')\n",
        "\n",
        "# Convert the array of unique countries back into a DataFrame for display\n",
        "UniqueCountriesDf = pd.DataFrame(UniqueCountries, columns=['Country'])\n",
        "\n",
        "# Display the DataFrame\n",
        "display(UniqueCountriesDf.style.hide(axis='index'))\n",
        "\n"
      ]
    }
  ],
  "metadata": {
    "colab": {
      "provenance": []
    },
    "kernelspec": {
      "display_name": "Python 3 (ipykernel)",
      "language": "python",
      "name": "python3"
    },
    "language_info": {
      "codemirror_mode": {
        "name": "ipython",
        "version": 3
      },
      "file_extension": ".py",
      "mimetype": "text/x-python",
      "name": "python",
      "nbconvert_exporter": "python",
      "pygments_lexer": "ipython3",
      "version": "3.10.9"
    }
  },
  "nbformat": 4,
  "nbformat_minor": 0
}