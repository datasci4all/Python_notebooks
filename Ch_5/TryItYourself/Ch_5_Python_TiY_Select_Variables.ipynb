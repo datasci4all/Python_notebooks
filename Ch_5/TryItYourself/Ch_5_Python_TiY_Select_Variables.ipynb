{
  "cells": [
    {
      "cell_type": "code",
      "execution_count": null,
      "metadata": {
        "id": "HJnbyEtSTUmm"
      },
      "outputs": [],
      "source": [
        "#### Select Variables ####\n",
        "\n",
        "# Importing necessary libraries\n",
        "import pandas as pd\n",
        "\n",
        "# Load the CSV file into a DataFrame\n",
        "CustomersDf = pd.read_csv('Customers.csv')\n",
        "\n",
        "# Set the option to display all rows (change 1000 to your desired number)\n",
        "pd.set_option('display.max_rows', 1000)\n",
        "\n",
        "# Calculate the number of observations\n",
        "NumObservations = len(CustomersDf)\n",
        "\n",
        "# Print the number of observations\n",
        "print(f'Number of observations: {NumObservations}')\n",
        "\n",
        "# Display the 'Country' column in a tabular format\n",
        "display(CustomersDf[['Country']].style.hide(axis='index'))\n",
        "\n",
        "# Country in the 10th observatrion and city in the 10th observation\n",
        "print(CustomersDf['Country'][9])\n",
        "print(CustomersDf['City'][9])"
      ]
    }
  ],
  "metadata": {
    "colab": {
      "provenance": []
    },
    "kernelspec": {
      "display_name": "Python 3 (ipykernel)",
      "language": "python",
      "name": "python3"
    },
    "language_info": {
      "codemirror_mode": {
        "name": "ipython",
        "version": 3
      },
      "file_extension": ".py",
      "mimetype": "text/x-python",
      "name": "python",
      "nbconvert_exporter": "python",
      "pygments_lexer": "ipython3",
      "version": "3.10.9"
    }
  },
  "nbformat": 4,
  "nbformat_minor": 0
}