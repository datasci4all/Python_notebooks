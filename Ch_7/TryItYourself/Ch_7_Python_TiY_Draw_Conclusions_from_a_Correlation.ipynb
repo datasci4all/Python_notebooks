{
  "cells": [
    {
      "cell_type": "code",
      "execution_count": null,
      "metadata": {
        "id": "ZRKoh9qJ95vF"
      },
      "outputs": [],
      "source": [
        "# Importing necessary libraries\n",
        "import pandas as pd\n",
        "import random\n",
        "import numpy as np\n",
        "from plotnine import ggplot, aes, geom_histogram, ggtitle, labs, geom_vline\n",
        "from scipy.stats import pearsonr\n",
        "\n",
        "# Load the dataset\n",
        "data = pd.read_csv('school.csv')\n",
        "\n",
        "# Extracting GPA and AvgCourseDifficulty\n",
        "gpa = data['gpa']\n",
        "course_difficulty = data['avg_course_difficulty']\n",
        "\n",
        "# Calculating the Pearson correlation coefficient and p-value\n",
        "correlation_coefficient, correlation_p = pearsonr(gpa, course_difficulty)\n",
        "\n",
        "# Output the results\n",
        "print('Observed correlation coefficient:')\n",
        "print(correlation_coefficient)"
      ]
    },
    {
      "cell_type": "code",
      "execution_count": null,
      "metadata": {
        "id": "Yrb1bbMqEyYP"
      },
      "outputs": [],
      "source": [
        "# Peform simulation-based hypothesis test\n",
        "\n",
        "# Create dataframe to store simulations in\n",
        "num_sim = 10000\n",
        "data_sim = pd.DataFrame({\n",
        "  'correlation' : [0.0]*num_sim,\n",
        "})\n",
        "\n",
        "null_value = 0\n",
        "\n",
        "# Perform simulations\n",
        "for i in np.arange(num_sim):\n",
        "    correlation_sim, correlation_p = pearsonr(course_difficulty, random.sample(sorted(gpa), k = len(gpa)))\n",
        "\n",
        "    data_sim.loc[i, 'correlation'] = correlation_sim\n",
        "\n",
        "# Plot simulations\n",
        "(ggplot(data_sim, aes(x = 'correlation')) +\n",
        "  geom_histogram(alpha = .55, bins = 20, boundary = correlation_coefficient) +\n",
        "  geom_vline(xintercept = correlation_coefficient, color = 'red') +\n",
        "  labs(\n",
        "      x = 'Sample Correlation',\n",
        "      y = 'Count'\n",
        "  ) +\n",
        "  ggtitle('Distribution of Sample Correlations')\n",
        ")"
      ]
    },
    {
      "cell_type": "code",
      "execution_count": null,
      "metadata": {
        "id": "MZ7bEkCQEy2l"
      },
      "outputs": [],
      "source": [
        "# Compute and print p-value\n",
        "print('P-value:')\n",
        "print(sum(data_sim['correlation'] < correlation_coefficient)/num_sim)"
      ]
    }
  ],
  "metadata": {
    "colab": {
      "provenance": []
    },
    "kernelspec": {
      "display_name": "Python 3 (ipykernel)",
      "language": "python",
      "name": "python3"
    },
    "language_info": {
      "codemirror_mode": {
        "name": "ipython",
        "version": 3
      },
      "file_extension": ".py",
      "mimetype": "text/x-python",
      "name": "python",
      "nbconvert_exporter": "python",
      "pygments_lexer": "ipython3",
      "version": "3.11.4"
    }
  },
  "nbformat": 4,
  "nbformat_minor": 0
}