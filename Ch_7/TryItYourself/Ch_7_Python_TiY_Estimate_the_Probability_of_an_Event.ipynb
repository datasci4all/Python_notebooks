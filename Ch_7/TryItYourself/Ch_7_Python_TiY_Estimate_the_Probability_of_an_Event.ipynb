{
  "cells": [
    {
      "cell_type": "code",
      "execution_count": null,
      "metadata": {
        "id": "KSU8b7SKH8vD"
      },
      "outputs": [],
      "source": [
        "# Importing necessary libraries\n",
        "import pandas as pd\n",
        "import numpy as np\n",
        "from plotnine import ggplot, aes, geom_histogram, labs\n",
        "\n",
        "# Setting the seed for reproducibility\n",
        "np.random.seed(777)\n",
        "\n",
        "# Coin-Flipping Simulation\n",
        "nullp = 0.5\n",
        "num_flips = 100\n",
        "\n",
        "# Null Distribution Simulation with 100\n",
        "num_sims = 100\n",
        "null_flips = [np.sum(np.random.choice([1, 0], size=num_flips, p=[nullp, 1-nullp])) for _ in range(num_sims)]\n",
        "null_data = pd.DataFrame({'num_heads': null_flips})\n"
      ]
    },
    {
      "cell_type": "code",
      "execution_count": null,
      "metadata": {
        "id": "oWRnkZLKdYLC"
      },
      "outputs": [],
      "source": [
        "# Compute number of times 60 heads came up\n",
        "print('Number of times 60 heads came up:')\n",
        "print(sum(null_data['num_heads'] == 60))"
      ]
    },
    {
      "cell_type": "code",
      "execution_count": null,
      "metadata": {
        "id": "p8GDtLxjdpMb"
      },
      "outputs": [],
      "source": [
        "# Compute probability of times 60 heads coming up\n",
        "print('Probability of times 60 heads coming up:')\n",
        "print(sum(null_data['num_heads'] == 60)/100)"
      ]
    }
  ],
  "metadata": {
    "colab": {
      "provenance": []
    },
    "kernelspec": {
      "display_name": "Python 3 (ipykernel)",
      "language": "python",
      "name": "python3"
    },
    "language_info": {
      "codemirror_mode": {
        "name": "ipython",
        "version": 3
      },
      "file_extension": ".py",
      "mimetype": "text/x-python",
      "name": "python",
      "nbconvert_exporter": "python",
      "pygments_lexer": "ipython3",
      "version": "3.11.4"
    }
  },
  "nbformat": 4,
  "nbformat_minor": 0
}