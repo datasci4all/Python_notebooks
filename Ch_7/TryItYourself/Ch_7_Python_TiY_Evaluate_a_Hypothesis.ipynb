{
  "cells": [
    {
      "cell_type": "code",
      "execution_count": null,
      "metadata": {
        "id": "c84561d5"
      },
      "outputs": [],
      "source": [
        "# Importing necessary libraries\n",
        "import pandas as pd\n",
        "import random\n",
        "import numpy as np\n",
        "from plotnine import ggplot, aes, geom_histogram, ggtitle, labs, geom_vline\n",
        "\n",
        "# Load the data from the CSV file\n",
        "school_data = pd.read_csv('school.csv')\n",
        "\n",
        "# Filtering the data to include only classes with an average difficulty rating of at least 3\n",
        "difficult_classes = school_data[school_data['avg_course_difficulty'] >= 3]\n",
        "\n",
        "# Calculating the proportion of students in difficult classes\n",
        "proportion_difficult_classes = len(difficult_classes) / len(school_data)\n",
        "\n",
        "print('The proportion of students from our sample in classes with an average difficulty rating of at least 3:')\n",
        "print(proportion_difficult_classes)"
      ]
    },
    {
      "cell_type": "code",
      "execution_count": null,
      "metadata": {
        "id": "eKC_nrirA4YY"
      },
      "outputs": [],
      "source": [
        "# Perform the simulation-based hypothesis test\n",
        "\n",
        "# Create dataframe to hold simulation results\n",
        "num_students = len(school_data) # Numbers of Flips\n",
        "num_sim = 10000\n",
        "data_sim = pd.DataFrame({\n",
        "  'proportion_sim' : [0.0]*num_sim,\n",
        "})\n",
        "\n",
        "null_value = 0.65\n",
        "\n",
        "# Perform simulation\n",
        "for i in np.arange(num_sim):\n",
        "    sim = random.choices([1, 0], weights = [null_value, 1-null_value], k = num_students)\n",
        "\n",
        "    data_sim.loc[i, 'proportion_sim'] = sum(np.equal(sim, 1))/num_students\n",
        "\n",
        "# Plot the simulation results\n",
        "(ggplot(data_sim, aes(x = 'proportion_sim')) +\n",
        "  geom_histogram(alpha = .55, bins = 20, boundary = proportion_difficult_classes) +\n",
        "  geom_vline(xintercept = proportion_difficult_classes, color = 'red') +\n",
        "  labs(\n",
        "      x = 'Sample Proportion of Students Attending Difficult Courses',\n",
        "      y = 'Count'\n",
        "  ) +\n",
        "  ggtitle('Distribution of Sample Proportions')\n",
        ")"
      ]
    },
    {
      "cell_type": "code",
      "execution_count": null,
      "metadata": {
        "id": "TDx3qiaUCfxT"
      },
      "outputs": [],
      "source": [
        "# Compute and print the p-value\n",
        "print('P-value:')\n",
        "print(sum(data_sim['proportion_sim'] > proportion_difficult_classes)/num_sim)"
      ]
    }
  ],
  "metadata": {
    "colab": {
      "provenance": []
    },
    "kernelspec": {
      "display_name": "Python 3 (ipykernel)",
      "language": "python",
      "name": "python3"
    },
    "language_info": {
      "codemirror_mode": {
        "name": "ipython",
        "version": 3
      },
      "file_extension": ".py",
      "mimetype": "text/x-python",
      "name": "python",
      "nbconvert_exporter": "python",
      "pygments_lexer": "ipython3",
      "version": "3.11.4"
    }
  },
  "nbformat": 4,
  "nbformat_minor": 0
}