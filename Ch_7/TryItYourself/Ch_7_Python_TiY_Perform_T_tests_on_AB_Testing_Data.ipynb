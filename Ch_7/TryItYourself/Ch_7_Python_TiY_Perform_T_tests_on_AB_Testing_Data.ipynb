{
  "cells": [
    {
      "cell_type": "code",
      "execution_count": null,
      "metadata": {
        "id": "GYBsq7vwKZZU"
      },
      "outputs": [],
      "source": [
        "# Importing necessary libraries\n",
        "import pandas as pd\n",
        "from scipy.stats import ttest_ind\n",
        "\n",
        "# Load the dataset\n",
        "data = pd.read_csv('pizzapasta.csv')  # Replace with the actual file path\n",
        "\n",
        "# Separate the data into two groups based on the image seen\n",
        "pizza_group = data[data['treatment'] == 'pizza']\n",
        "pasta_group = data[data['treatment'] == 'pasta']\n",
        "\n",
        "# Calculate the number of participants in each group\n",
        "num_pizza_participants = pizza_group.shape[0]\n",
        "num_pasta_participants = pasta_group.shape[0]\n",
        "\n",
        "# Calculate the mean session duration for each group\n",
        "mean_session_pizza = pizza_group['session_duration'].mean()\n",
        "mean_session_pasta = pasta_group['session_duration'].mean()\n",
        "\n",
        "# Perform t-tests for session duration and purchase portion\n",
        "t_stat_session, p_value_session = ttest_ind(pizza_group['session_duration'], pasta_group['session_duration'], equal_var=True, alternative = 'greater')\n",
        "\n",
        "\n",
        "# Output the results\n",
        "print('Number of Participants - Pizza Image:', num_pizza_participants)\n",
        "print('Number of Participants - Pasta Image:', num_pasta_participants)\n",
        "print('Mean Session Duration - Pizza Image:', mean_session_pizza)\n",
        "print('Mean Session Duration - Pasta Image:', mean_session_pasta)\n",
        "print('P-Value for Session Duration:', p_value_session)\n",
        "\n"
      ]
    }
  ],
  "metadata": {
    "colab": {
      "provenance": []
    },
    "kernelspec": {
      "display_name": "Python 3 (ipykernel)",
      "language": "python",
      "name": "python3"
    },
    "language_info": {
      "codemirror_mode": {
        "name": "ipython",
        "version": 3
      },
      "file_extension": ".py",
      "mimetype": "text/x-python",
      "name": "python",
      "nbconvert_exporter": "python",
      "pygments_lexer": "ipython3",
      "version": "3.11.4"
    }
  },
  "nbformat": 4,
  "nbformat_minor": 0
}