{
  "cells": [
    {
      "cell_type": "code",
      "execution_count": null,
      "metadata": {
        "id": "fi8Vj8-ivbin"
      },
      "outputs": [],
      "source": [
        "# Importing necessary libraries\n",
        "import pandas as pd\n",
        "import scipy.stats as stats\n",
        "\n",
        "# Load the data\n",
        "school_data = pd.read_csv('school.csv')\n",
        "\n",
        "# Perform a one-sample t-test\n",
        "# Null Hypothesis: The mean number of GPA is 3.5\n",
        "# Alternative Hypothesis: The mean GPA is less than 3.5\n",
        "t_statistic, p_value = stats.ttest_1samp(school_data['gpa'], 3.5, alternative = 'less')\n",
        "\n",
        "# Outputting the results\n",
        "print('T-statistic: ', t_statistic)\n",
        "print('P-value: ', p_value)"
      ]
    }
  ],
  "metadata": {
    "colab": {
      "provenance": []
    },
    "kernelspec": {
      "display_name": "Python 3 (ipykernel)",
      "language": "python",
      "name": "python3"
    },
    "language_info": {
      "codemirror_mode": {
        "name": "ipython",
        "version": 3
      },
      "file_extension": ".py",
      "mimetype": "text/x-python",
      "name": "python",
      "nbconvert_exporter": "python",
      "pygments_lexer": "ipython3",
      "version": "3.11.4"
    }
  },
  "nbformat": 4,
  "nbformat_minor": 0
}