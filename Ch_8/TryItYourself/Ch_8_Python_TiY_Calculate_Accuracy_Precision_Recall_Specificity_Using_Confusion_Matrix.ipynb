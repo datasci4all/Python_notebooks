{
  "cells": [
    {
      "cell_type": "code",
      "execution_count": null,
      "id": "9310ec45",
      "metadata": {
        "id": "9310ec45"
      },
      "outputs": [],
      "source": [
        "#### Calculate Accuracy, Precision, Recall, and Specificity using a Confusion Matrix ####\n",
        "\n",
        "# Importing necessary libraries\n",
        "import pandas as pd\n",
        "from sklearn import tree\n",
        "from sklearn.pipeline import Pipeline\n",
        "from sklearn.tree import DecisionTreeClassifier\n",
        "from sklearn.metrics import confusion_matrix\n",
        "from sklearn.compose import ColumnTransformer\n",
        "from sklearn.preprocessing import OneHotEncoder\n",
        "\n",
        "# Import data\n",
        "data_train = pd.read_csv('carseats_train.csv')\n",
        "data_test = pd.read_csv('carseats_test.csv')\n",
        "\n",
        "# Model piece to handle categorical variables\n",
        "column_transformer = ColumnTransformer(\n",
        "  [\n",
        "    ('dummify', OneHotEncoder(sparse_output = False), ['shelf_location', 'urban', 'us']),\n",
        "  ],\n",
        "  remainder = 'passthrough'\n",
        ")\n",
        "\n",
        "# Distinguish training and test data\n",
        "x_train = data_train.drop(['sales', 'sales_cat'], axis=1)\n",
        "y_train = data_train['sales_cat'].astype('category').cat.codes\n",
        "x_test = data_test.drop(['sales', 'sales_cat'], axis=1)\n",
        "y_test = data_test['sales_cat'].astype('category').cat.codes\n",
        "\n",
        "\n",
        "## Classification Tree (Max Depth = 5)\n",
        "tree_pipeline = Pipeline(\n",
        "  [('preprocessing', column_transformer),\n",
        "    ('tree', DecisionTreeClassifier(max_depth=5, min_samples_split=2, ccp_alpha=0, random_state=1234))]\n",
        ").set_output(transform='pandas')\n",
        "\n",
        "# Fit tree\n",
        "tree_fitted = tree_pipeline.fit(x_train, y_train)\n",
        "\n",
        "# Compute predictions\n",
        "y_predicted = tree_pipeline.predict(x_test)\n",
        "\n",
        "# Print confusion matrix\n",
        "print('Confusion matrix for test data:')\n",
        "confusion_matrix = confusion_matrix(y_test, y_predicted)\n",
        "print(confusion_matrix)\n",
        "\n",
        "print('Accuracy:')\n",
        "print((confusion_matrix[0,0] + confusion_matrix[1,1])/len(y_test))\n",
        "\n",
        "print('Precision:')\n",
        "print(confusion_matrix[0,0]/(confusion_matrix[0,0] + confusion_matrix[0,1]))\n",
        "\n",
        "print('Recall:')\n",
        "print(confusion_matrix[0,0]/(confusion_matrix[0,0] + confusion_matrix[1,0]))\n",
        "\n",
        "print('Specificity:')\n",
        "print(confusion_matrix[1,1]/(confusion_matrix[1,1] + confusion_matrix[1,0]))"
      ]
    }
  ],
  "metadata": {
    "colab": {
      "provenance": []
    },
    "kernelspec": {
      "display_name": "Python 3 (ipykernel)",
      "language": "python",
      "name": "python3"
    },
    "language_info": {
      "codemirror_mode": {
        "name": "ipython",
        "version": 3
      },
      "file_extension": ".py",
      "mimetype": "text/x-python",
      "name": "python",
      "nbconvert_exporter": "python",
      "pygments_lexer": "ipython3",
      "version": "3.11.4"
    }
  },
  "nbformat": 4,
  "nbformat_minor": 5
}