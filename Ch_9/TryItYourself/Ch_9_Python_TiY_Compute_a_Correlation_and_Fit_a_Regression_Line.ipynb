{
  "cells": [
    {
      "cell_type": "code",
      "execution_count": null,
      "id": "6a2aecf2",
      "metadata": {
        "id": "6a2aecf2"
      },
      "outputs": [],
      "source": [
        "#### Compute a Correlation and Fit a Regression Line ####\n",
        "\n",
        "# Importing necessary libraries\n",
        "import pandas as pd\n",
        "from plotnine import ggplot, aes, geom_point, geom_smooth\n",
        "from sklearn.pipeline import Pipeline\n",
        "from sklearn.linear_model import LinearRegression\n",
        "import numpy as np\n",
        "\n",
        "# Import data\n",
        "penguins = pd.read_csv('penguins.csv')\n",
        "penguins = penguins.dropna(subset = ['bill_depth_mm', 'flipper_length_mm'])\n",
        "\n",
        "# Plot the data\n",
        "(ggplot(penguins, aes(x = 'flipper_length_mm', y = 'bill_depth_mm')) +\n",
        "  geom_point() +\n",
        "  geom_smooth(method = 'lm', se = False)\n",
        ")"
      ]
    },
    {
      "cell_type": "code",
      "execution_count": null,
      "id": "54AtqIAjGk0I",
      "metadata": {
        "id": "54AtqIAjGk0I"
      },
      "outputs": [],
      "source": [
        "# Compute and print correlation\n",
        "correlation = np.corrcoef(penguins['bill_depth_mm'], penguins['flipper_length_mm'])\n",
        "print('Correlation:', correlation[0][1])"
      ]
    },
    {
      "cell_type": "code",
      "execution_count": null,
      "id": "D944_lswGk4L",
      "metadata": {
        "id": "D944_lswGk4L"
      },
      "outputs": [],
      "source": [
        "# Fit regression model\n",
        "regression_pipeline = Pipeline(\n",
        "  [('lr', LinearRegression(fit_intercept = True))]\n",
        ").set_output(transform='pandas')\n",
        "\n",
        "x_train = pd.DataFrame(penguins['flipper_length_mm'])\n",
        "y_train = penguins['bill_depth_mm']\n",
        "regression_fitted = regression_pipeline.fit(x_train, y_train)\n",
        "\n",
        "regression_slope = regression_fitted['lr'].coef_[0]\n",
        "print('Linear Regression Slope Coefficient:', regression_slope)"
      ]
    }
  ],
  "metadata": {
    "colab": {
      "provenance": []
    },
    "kernelspec": {
      "display_name": "Python 3 (ipykernel)",
      "language": "python",
      "name": "python3"
    },
    "language_info": {
      "codemirror_mode": {
        "name": "ipython",
        "version": 3
      },
      "file_extension": ".py",
      "mimetype": "text/x-python",
      "name": "python",
      "nbconvert_exporter": "python",
      "pygments_lexer": "ipython3",
      "version": "3.11.4"
    }
  },
  "nbformat": 4,
  "nbformat_minor": 5
}