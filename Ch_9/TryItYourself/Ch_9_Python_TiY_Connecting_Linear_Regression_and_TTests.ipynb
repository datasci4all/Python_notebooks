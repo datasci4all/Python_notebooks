{
  "cells": [
    {
      "cell_type": "code",
      "execution_count": null,
      "id": "6c7247cb",
      "metadata": {
        "id": "6c7247cb"
      },
      "outputs": [],
      "source": [
        "#### Connecting Linear Regression and T-Tests ####\n",
        "\n",
        "# Importing necessary libraries\n",
        "from scipy import stats\n",
        "import pandas as pd\n",
        "from sklearn.pipeline import Pipeline\n",
        "from sklearn.linear_model import LinearRegression\n",
        "import statsmodels.api as sm\n",
        "\n",
        "# Import data\n",
        "penguins = pd.read_csv('penguins.csv')\n",
        "penguins = penguins.dropna(subset = ['bill_depth_mm', 'sex'])\n",
        "\n",
        "\n",
        "bill_male = penguins['bill_depth_mm'][penguins['sex'] == 'male']\n",
        "bill_female = penguins['bill_depth_mm'][penguins['sex'] == 'female']\n",
        "\n",
        "# T-Test\n",
        "print('T-Test Output:')\n",
        "ttest_result = stats.ttest_ind(bill_male, bill_female)\n",
        "print('T-statistic:', ttest_result.statistic, '\\nP-value:', ttest_result.pvalue)"
      ]
    },
    {
      "cell_type": "code",
      "execution_count": null,
      "id": "Y2xUJYWbFmur",
      "metadata": {
        "id": "Y2xUJYWbFmur"
      },
      "outputs": [],
      "source": [
        "# Regression Model\n",
        "penguins['is_male'] = 0\n",
        "penguins.loc[penguins['sex'] == 'male','is_male'] = 1\n",
        "\n",
        "x_train = sm.add_constant(penguins['is_male'])\n",
        "y_train = penguins['bill_depth_mm']\n",
        "\n",
        "## Traditional Linear Regression Output\n",
        "print(\"Linear regression t-statistic:\")\n",
        "results = sm.OLS(y_train, x_train).fit()\n",
        "print(results.tvalues.iloc[1])\n",
        "\n",
        "print(\"Linear regression p-value:\")\n",
        "print(results.pvalues.iloc[1])"
      ]
    }
  ],
  "metadata": {
    "colab": {
      "provenance": []
    },
    "kernelspec": {
      "display_name": "Python 3 (ipykernel)",
      "language": "python",
      "name": "python3"
    },
    "language_info": {
      "codemirror_mode": {
        "name": "ipython",
        "version": 3
      },
      "file_extension": ".py",
      "mimetype": "text/x-python",
      "name": "python",
      "nbconvert_exporter": "python",
      "pygments_lexer": "ipython3",
      "version": "3.11.4"
    }
  },
  "nbformat": 4,
  "nbformat_minor": 5
}