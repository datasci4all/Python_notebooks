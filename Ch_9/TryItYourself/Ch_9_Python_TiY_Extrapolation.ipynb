{
  "cells": [
    {
      "cell_type": "code",
      "execution_count": null,
      "id": "e666a335",
      "metadata": {
        "id": "e666a335"
      },
      "outputs": [],
      "source": [
        "#### Extrapolation ####\n",
        "\n",
        "# Importing necessary libraries\n",
        "import pandas as pd\n",
        "from sklearn.pipeline import Pipeline\n",
        "from sklearn.linear_model import LinearRegression\n",
        "\n",
        "# Create data frame for data in text\n",
        "age = pd.DataFrame([6, 7, 8, 9, 10, 11, 12, 13, 14, 15, 16, 17, 18, 19, 20])\n",
        "height = [42, 45, 48, 51, 54.5, 58, 61,\n",
        "            63.5, 66, 68.5, 69.5, 70, 71, 71.5, 72]\n",
        "\n",
        "# Fit regression model\n",
        "regression_pipeline = Pipeline(\n",
        "  [('lr', LinearRegression(fit_intercept = True))]\n",
        ").set_output(transform='pandas')\n",
        "\n",
        "regression_fitted = regression_pipeline.fit(age, height)\n",
        "[regression_fitted['lr'].intercept_, regression_fitted['lr'].coef_]\n",
        "\n",
        "# Extract the Linear Regression model from the pipeline\n",
        "model = regression_fitted.named_steps['lr']\n",
        "\n",
        "# Get the coefficient for 'age'\n",
        "coefficient = model.coef_\n",
        "\n",
        "# Get the intercept\n",
        "intercept = model.intercept_\n",
        "\n",
        "print('Coefficient (slope) for age:', coefficient[0])\n",
        "print('Intercept:', intercept)"
      ]
    },
    {
      "cell_type": "code",
      "execution_count": null,
      "id": "RcG7gvq8ZHnI",
      "metadata": {
        "id": "RcG7gvq8ZHnI"
      },
      "outputs": [],
      "source": [
        "# Make prediction\n",
        "new_age = pd.DataFrame([40])\n",
        "\n",
        "new_height = float(regression_fitted.predict(new_age)[0])\n",
        "print('Prediction for Height at Age 40:', new_height)"
      ]
    }
  ],
  "metadata": {
    "colab": {
      "provenance": []
    },
    "kernelspec": {
      "display_name": "Python 3 (ipykernel)",
      "language": "python",
      "name": "python3"
    },
    "language_info": {
      "codemirror_mode": {
        "name": "ipython",
        "version": 3
      },
      "file_extension": ".py",
      "mimetype": "text/x-python",
      "name": "python",
      "nbconvert_exporter": "python",
      "pygments_lexer": "ipython3",
      "version": "3.11.4"
    }
  },
  "nbformat": 4,
  "nbformat_minor": 5
}