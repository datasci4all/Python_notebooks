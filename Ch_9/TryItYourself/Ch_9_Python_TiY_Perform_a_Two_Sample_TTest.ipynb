{
  "cells": [
    {
      "cell_type": "code",
      "execution_count": null,
      "id": "6d78da52",
      "metadata": {
        "id": "6d78da52"
      },
      "outputs": [],
      "source": [
        "#### Perform a Two-Sample T-Test ####\n",
        "\n",
        "# Importing necessary libraries\n",
        "from scipy import stats\n",
        "import pandas as pd\n",
        "import numpy as np\n",
        "\n",
        "# Import data\n",
        "penguin_flipper_length = pd.read_csv('penguins_flipper_sex.csv')\n",
        "\n",
        "flipper_length_male = penguin_flipper_length['flipper_length_male']\n",
        "flipper_length_female = penguin_flipper_length['flipper_length_female']\n",
        "\n",
        "# Perform the T-test\n",
        "ttest_result = stats.ttest_ind(flipper_length_female, flipper_length_male, nan_policy='omit')\n",
        "\n",
        "# Manually format the output to avoid scientific notation\n",
        "t_statistic = ttest_result.statistic\n",
        "p_value = ttest_result.pvalue\n",
        "\n",
        "print('T-Test Output:', '\\nT-statistic:', t_statistic, '\\nP-value:', p_value)"
      ]
    },
    {
      "cell_type": "code",
      "execution_count": null,
      "id": "jhXY9QznGHjH",
      "metadata": {
        "id": "jhXY9QznGHjH"
      },
      "outputs": [],
      "source": [
        "# Compute and print means\n",
        "print('Male Mean of Flipper Length:')\n",
        "print(flipper_length_male.mean())\n",
        "\n",
        "print('Female Mean of Flipper Length:')\n",
        "print(flipper_length_female.mean())"
      ]
    }
  ],
  "metadata": {
    "colab": {
      "provenance": []
    },
    "kernelspec": {
      "display_name": "Python 3 (ipykernel)",
      "language": "python",
      "name": "python3"
    },
    "language_info": {
      "codemirror_mode": {
        "name": "ipython",
        "version": 3
      },
      "file_extension": ".py",
      "mimetype": "text/x-python",
      "name": "python",
      "nbconvert_exporter": "python",
      "pygments_lexer": "ipython3",
      "version": "3.11.4"
    }
  },
  "nbformat": 4,
  "nbformat_minor": 5
}